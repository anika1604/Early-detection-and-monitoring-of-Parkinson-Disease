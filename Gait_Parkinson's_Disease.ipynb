{
  "nbformat": 4,
  "nbformat_minor": 0,
  "metadata": {
    "colab": {
      "provenance": []
    },
    "kernelspec": {
      "name": "python3",
      "display_name": "Python 3"
    },
    "language_info": {
      "name": "python"
    }
  },
  "cells": [
    {
      "cell_type": "code",
      "execution_count": null,
      "metadata": {
        "colab": {
          "base_uri": "https://localhost:8080/"
        },
        "id": "1ISS7ZNaBcU5",
        "outputId": "2d3d41f2-a4d9-43f4-bbba-634ce3cef5f0"
      },
      "outputs": [
        {
          "output_type": "stream",
          "name": "stdout",
          "text": [
            "Mounted at /content/drive\n"
          ]
        }
      ],
      "source": [
        "# Mount Google Drive\n",
        "from google.colab import drive\n",
        "drive.mount('/content/drive')"
      ]
    },
    {
      "cell_type": "code",
      "source": [
        "import pandas as pd\n",
        "import numpy as np\n",
        "import glob\n",
        "import os\n",
        "import time\n",
        "from sklearn.model_selection import train_test_split\n",
        "from sklearn.ensemble import RandomForestClassifier\n",
        "from sklearn.preprocessing import StandardScaler\n",
        "from sklearn.metrics import accuracy_score\n",
        "\n",
        "# Start timing\n",
        "start_time = time.time()\n",
        "\n",
        "# Step 1: Load all TXT files\n",
        "directory_path = \"/content/drive/My Drive/gait-in-parkinsons-disease\"  # Update path\n",
        "all_files = glob.glob(os.path.join(directory_path, \"*.txt\"))\n",
        "\n",
        "df_list = []\n",
        "for file in all_files:\n",
        "    try:\n",
        "        temp_df = pd.read_csv(file, sep=\"\\t\", header=None, engine=\"python\", on_bad_lines=\"skip\")\n",
        "        df_list.append(temp_df)\n",
        "    except Exception as e:\n",
        "        print(f\"Error reading {file}: {e}\")\n",
        "\n",
        "# Combine all files\n",
        "df = pd.concat(df_list, ignore_index=True)\n",
        "\n",
        "# Step 2: Preprocess Data\n",
        "df = df.dropna()  # Remove missing values\n",
        "\n",
        "# Assign column names if needed\n",
        "num_columns = df.shape[1]  # Get the number of columns\n",
        "column_names = [f\"Feature_{i}\" for i in range(num_columns - 1)] + [\"Label\"]\n",
        "df.columns = column_names\n",
        "\n",
        "# Convert all values to float\n",
        "df = df.astype(float)\n",
        "\n",
        "# If dataset is huge, sample only 50,000 rows for faster training\n",
        "if len(df) > 50000:\n",
        "    df = df.sample(n=50000, random_state=42)\n",
        "\n",
        "# Check label values\n",
        "print(\"Unique Label Values:\", df[\"Label\"].unique())\n",
        "\n",
        "# Convert labels to binary classification\n",
        "df[\"Label\"] = df[\"Label\"].apply(lambda x: 1 if x > df[\"Label\"].median() else 0)\n",
        "\n",
        "# Split data into features and labels\n",
        "X = df.drop(columns=[\"Label\"])  # Features\n",
        "y = df[\"Label\"].astype(int)  # Convert to integer labels\n",
        "\n",
        "# Normalize features\n",
        "scaler = StandardScaler()\n",
        "X_scaled = scaler.fit_transform(X)\n",
        "\n",
        "# Step 3: Train Model\n",
        "X_train, X_test, y_train, y_test = train_test_split(X_scaled, y, test_size=0.2, random_state=42)\n",
        "\n",
        "# Use fewer trees for faster training\n",
        "model = RandomForestClassifier(n_estimators=50, random_state=42, n_jobs=-1)\n",
        "model.fit(X_train, y_train)\n",
        "\n",
        "# Step 4: Evaluate Model\n",
        "y_pred = model.predict(X_test)\n",
        "accuracy = accuracy_score(y_test, y_pred)\n",
        "\n",
        "end_time = time.time()\n",
        "execution_time = end_time - start_time\n",
        "\n",
        "print(f\"✅ Model Accuracy: {accuracy * 100:.2f}%\")\n",
        "print(f\"⚡ Execution Time: {execution_time:.2f} seconds\")\n"
      ],
      "metadata": {
        "colab": {
          "base_uri": "https://localhost:8080/"
        },
        "id": "hRMepU_IBp8A",
        "outputId": "8adca860-1c4d-4437-8138-eef92bdbbacb"
      },
      "execution_count": null,
      "outputs": [
        {
          "output_type": "stream",
          "name": "stdout",
          "text": [
            "Unique Label Values: [   0.    614.13  909.37 ...  199.98  122.76 1156.1 ]\n",
            "✅ Model Accuracy: 98.79%\n",
            "⚡ Execution Time: 121.48 seconds\n"
          ]
        }
      ]
    }
  ]
}